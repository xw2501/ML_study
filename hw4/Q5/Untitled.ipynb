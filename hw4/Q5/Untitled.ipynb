{
 "cells": [
  {
   "cell_type": "code",
   "execution_count": 1,
   "metadata": {},
   "outputs": [],
   "source": [
    "import csv\n",
    "import numpy as np\n",
    "\n",
    "label_dict = []\n",
    "train_data = []\n",
    "train_label = []\n",
    "\n",
    "for i in range(89):\n",
    "    list_ = []\n",
    "    train_data.append(list_)\n",
    "\n",
    "with open('trainy.csv') as csvfile:\n",
    "    reader = csv.DictReader(csvfile)\n",
    "    for row in reader:\n",
    "        train_label.append(int(row['1']))\n",
    "        \n",
    "count = 0\n",
    "with open('trainx.csv') as csvfile:\n",
    "    reader = csv.DictReader(csvfile)\n",
    "    for row in reader:\n",
    "        if train_label[count] not in label_dict:\n",
    "            label_dict.append(train_label[count])\n",
    "        index_ = label_dict.index(train_label[count])\n",
    "        list_ = []\n",
    "        for i in range(90):\n",
    "            list_.append(float(row[str(i+1)]))\n",
    "        train_data[index_].append(list_)\n",
    "        count += 1"
   ]
  },
  {
   "cell_type": "code",
   "execution_count": 25,
   "metadata": {},
   "outputs": [],
   "source": [
    "mu_ = []\n",
    "for i in range(89):\n",
    "    mu_.append(np.mean(np.asarray(train_data[i]), 0))\n"
   ]
  },
  {
   "cell_type": "code",
   "execution_count": 31,
   "metadata": {},
   "outputs": [],
   "source": [
    "th_ = []\n",
    "for i in range(89):\n",
    "    th_.append(np.cov(np.asarray(train_data[i]), rowvar=0))\n"
   ]
  },
  {
   "cell_type": "code",
   "execution_count": 37,
   "metadata": {},
   "outputs": [],
   "source": [
    "test_data = []\n",
    "with open('testx.csv') as csvfile:\n",
    "    reader = csv.DictReader(csvfile)\n",
    "    for row in reader:\n",
    "        list_ = []\n",
    "        for i in range(90):\n",
    "            list_.append(float(row[str(i+1)]))\n",
    "        test_data.append(list_)\n"
   ]
  },
  {
   "cell_type": "code",
   "execution_count": null,
   "metadata": {},
   "outputs": [
    {
     "name": "stderr",
     "output_type": "stream",
     "text": [
      "D:\\py\\envs\\ECBM4040\\lib\\site-packages\\numpy\\linalg\\linalg.py:1804: RuntimeWarning: overflow encountered in det\n",
      "  r = _umath_linalg.det(a, signature=signature)\n",
      "D:\\py\\envs\\ECBM4040\\lib\\site-packages\\ipykernel_launcher.py:6: RuntimeWarning: overflow encountered in exp\n",
      "  \n",
      "D:\\py\\envs\\ECBM4040\\lib\\site-packages\\ipykernel_launcher.py:6: RuntimeWarning: invalid value encountered in multiply\n",
      "  \n",
      "D:\\py\\envs\\ECBM4040\\lib\\site-packages\\ipykernel_launcher.py:6: RuntimeWarning: divide by zero encountered in double_scalars\n",
      "  \n",
      "D:\\py\\envs\\ECBM4040\\lib\\site-packages\\ipykernel_launcher.py:6: RuntimeWarning: invalid value encountered in double_scalars\n",
      "  \n",
      "D:\\py\\envs\\ECBM4040\\lib\\site-packages\\ipykernel_launcher.py:6: RuntimeWarning: overflow encountered in multiply\n",
      "  \n",
      "D:\\py\\envs\\ECBM4040\\lib\\site-packages\\ipykernel_launcher.py:7: RuntimeWarning: overflow encountered in multiply\n",
      "  import sys\n"
     ]
    }
   ],
   "source": [
    "prediction = []\n",
    "pi = 3.14\n",
    "for i in range(len(test_data)):\n",
    "    pro_ = []\n",
    "    for j in range(88):\n",
    "        pro_.append(np.linalg.det((np.asarray(th_[j])+1e-2)*2*pi)**(-0.5)*np.exp(-0.5*(np.asarray(test_data[i])-np.asarray(mu_[j])).T*(np.asarray(th_[j])+1e-2)**(-1)*(np.asarray(test_data[i])-np.asarray(mu_[j]))))\n",
    "    prediction.append(np.asarray(pro_).T*np.asarray(label_dict[0:88]))"
   ]
  },
  {
   "cell_type": "code",
   "execution_count": 52,
   "metadata": {},
   "outputs": [
    {
     "name": "stdout",
     "output_type": "stream",
     "text": [
      "(1, 90)\n"
     ]
    }
   ],
   "source": [
    "print(np.asarray(train_data[88]).shape)"
   ]
  },
  {
   "cell_type": "code",
   "execution_count": 38,
   "metadata": {},
   "outputs": [
    {
     "ename": "NameError",
     "evalue": "name 'pi' is not defined",
     "output_type": "error",
     "traceback": [
      "\u001b[1;31m---------------------------------------------------------------------------\u001b[0m",
      "\u001b[1;31mNameError\u001b[0m                                 Traceback (most recent call last)",
      "\u001b[1;32m<ipython-input-38-5fd1868b3769>\u001b[0m in \u001b[0;36m<module>\u001b[1;34m()\u001b[0m\n\u001b[1;32m----> 1\u001b[1;33m \u001b[0mprint\u001b[0m\u001b[1;33m(\u001b[0m\u001b[0mpi\u001b[0m\u001b[1;33m)\u001b[0m\u001b[1;33m\u001b[0m\u001b[0m\n\u001b[0m",
      "\u001b[1;31mNameError\u001b[0m: name 'pi' is not defined"
     ]
    }
   ],
   "source": [
    "print(pi)"
   ]
  }
 ],
 "metadata": {
  "kernelspec": {
   "display_name": "Python 3",
   "language": "python",
   "name": "python3"
  },
  "language_info": {
   "codemirror_mode": {
    "name": "ipython",
    "version": 3
   },
   "file_extension": ".py",
   "mimetype": "text/x-python",
   "name": "python",
   "nbconvert_exporter": "python",
   "pygments_lexer": "ipython3",
   "version": "3.5.4"
  }
 },
 "nbformat": 4,
 "nbformat_minor": 2
}
